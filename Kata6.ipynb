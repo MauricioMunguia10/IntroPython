{
 "cells": [
  {
   "cell_type": "markdown",
   "metadata": {},
   "source": [
    "# Ejercico1: Crear y usar listas"
   ]
  },
  {
   "cell_type": "markdown",
   "metadata": {},
   "source": [
    "En primer lugar, crea una variable denominada `planets`. Agrega los ocho planetas (sin Plutón) a la lista. A continuación, muestra el número de planetas."
   ]
  },
  {
   "cell_type": "code",
   "execution_count": 4,
   "metadata": {},
   "outputs": [
    {
     "name": "stdout",
     "output_type": "stream",
     "text": [
      "El numero de planetas actual es de 8,son: ['Mercurio', 'Venus', 'Earth', 'Mars', 'Jupiter', 'Saturn', 'Urano', 'Neptuno']\n"
     ]
    }
   ],
   "source": [
    "planets=['Mercurio','Venus','Earth','Mars','Jupiter','Saturn','Urano','Neptuno']\n",
    "numPlan=len(planets)\n",
    "print(f\"El numero de planetas actual es de {numPlan},son:\",planets)"
   ]
  },
  {
   "cell_type": "markdown",
   "metadata": {},
   "source": [
    "Agrega a Pluton a la lista.Luego muestra el numero de planetas y el ultimo planeta."
   ]
  },
  {
   "cell_type": "code",
   "execution_count": 5,
   "metadata": {},
   "outputs": [
    {
     "name": "stdout",
     "output_type": "stream",
     "text": [
      "El numero de planetas actual es de 9,el ultimo es: Pluton\n"
     ]
    }
   ],
   "source": [
    "planets.append('Pluton')\n",
    "numPlan=len(planets)\n",
    "\n",
    "print(f\"El numero de planetas actual es de {numPlan},el ultimo es:\",planets[-1])"
   ]
  },
  {
   "cell_type": "markdown",
   "metadata": {},
   "source": [
    "# Ejercicio 2:Trabajando con datos de una lista"
   ]
  },
  {
   "cell_type": "markdown",
   "metadata": {},
   "source": [
    "Es posible que debas trabajar con diferentes secciones de una lista. En nuestro ejemplo, queremos mostrar planetas más cerca y más lejos del sol de un planeta que el usuario ingresa por teclado.\n",
    "\n",
    "Comienza agregando el código para crear una lista con los planetas."
   ]
  },
  {
   "cell_type": "code",
   "execution_count": 6,
   "metadata": {},
   "outputs": [],
   "source": [
    "planets=['Mercurio','Venus','Earth','Mars','Jupiter','Saturn','Urano','Neptuno']"
   ]
  },
  {
   "cell_type": "markdown",
   "metadata": {},
   "source": [
    "Solicita al usuario que nombre un planeta"
   ]
  },
  {
   "cell_type": "code",
   "execution_count": 18,
   "metadata": {},
   "outputs": [
    {
     "name": "stdout",
     "output_type": "stream",
     "text": [
      "Usted selecciono Mars, los planetas mas cercanos al sol que el que ingreso son['Mercurio', 'Venus', 'Earth']\n",
      "Los mas lejanos que el que ingreso son['Jupiter', 'Saturn', 'Urano', 'Neptuno']\n"
     ]
    }
   ],
   "source": [
    "nombrePla=input(\"Escriba el nombre de un planeta empezando en MAYUSCULA\")\n",
    "#print(nombrePla)\n",
    "loc=planets.index(nombrePla)\n",
    "planetsBefore=planets[0:loc]\n",
    "planetsAfter=planets[loc+1:8]\n",
    "#print(loc+1)\n",
    "print(f\"Usted selecciono {nombrePla}, los planetas mas cercanos al sol que el que ingreso son{planetsBefore}\")\n",
    "print(f\"Los mas lejanos que el que ingreso son{planetsAfter}\")"
   ]
  }
 ],
 "metadata": {
  "interpreter": {
   "hash": "f79d682e0d7e407837e204f3f3507eee334dd757aca1aa41c981cdc6353a99ef"
  },
  "kernelspec": {
   "display_name": "Python 3.10.2 64-bit (windows store)",
   "language": "python",
   "name": "python3"
  },
  "language_info": {
   "codemirror_mode": {
    "name": "ipython",
    "version": 3
   },
   "file_extension": ".py",
   "mimetype": "text/x-python",
   "name": "python",
   "nbconvert_exporter": "python",
   "pygments_lexer": "ipython3",
   "version": "3.10.2"
  },
  "orig_nbformat": 4
 },
 "nbformat": 4,
 "nbformat_minor": 2
}
