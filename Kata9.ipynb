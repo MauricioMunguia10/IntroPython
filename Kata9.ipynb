{
 "cells": [
  {
   "cell_type": "markdown",
   "metadata": {},
   "source": [
    "# Ejercicio: Uso de funciones"
   ]
  },
  {
   "cell_type": "markdown",
   "metadata": {},
   "source": [
    "Los argumentos requeridos en las funciones se utilizan cuando las funciones necesitan que esos argumentos funcionen correctamente. En este ejercicio, construirás un informe de combustible que requiere información de varias ubicaciones de combustible en todo el cohete.\n",
    "\n",
    "Comienza por crear una función que necesite tres lecturas de combustible y devuelva un informe:"
   ]
  },
  {
   "cell_type": "code",
   "execution_count": 21,
   "metadata": {},
   "outputs": [
    {
     "name": "stdout",
     "output_type": "stream",
     "text": [
      "El combustible de cada tanque es:\n",
      "    1.-90\n",
      "    2.-70\n",
      "    3.-25\"\n",
      "    Promedio=61.666666666666664\n"
     ]
    }
   ],
   "source": [
    "def combustible(tanque1,tanque2,tanque3):\n",
    "    #prom=(tanque1+tanque2+tanque3)/3\n",
    "    return f\"\"\"El combustible de cada tanque es:\n",
    "    1.-{tanque1}\n",
    "    2.-{tanque2}\n",
    "    3.-{tanque3}\"\"\"\n",
    "    #Promedio={prom}\n",
    "print(combustible(90,70,25))"
   ]
  },
  {
   "cell_type": "markdown",
   "metadata": {},
   "source": [
    "En lugar de simplemente crear el informe, la función también está calculando el promedio. Mejora la legibilidad extrayendo el cálculo promedio de la función en una nueva función para que el promedio se pueda hacer de forma independiente:"
   ]
  },
  {
   "cell_type": "code",
   "execution_count": 22,
   "metadata": {},
   "outputs": [
    {
     "name": "stdout",
     "output_type": "stream",
     "text": [
      "El promedio de cumbustible es:70.0\n"
     ]
    }
   ],
   "source": [
    "def promedioT(tanque1,tanque2,tanque3):\n",
    "    promT=(tanque1+tanque2+tanque3)/3\n",
    "    return f\"\"\"El promedio de cumbustible es:{promT}\"\"\"\n",
    "print(promedioT(90,70,50))"
   ]
  },
  {
   "cell_type": "markdown",
   "metadata": {},
   "source": [
    "Actualiza la funcion"
   ]
  },
  {
   "cell_type": "code",
   "execution_count": 27,
   "metadata": {},
   "outputs": [
    {
     "name": "stdout",
     "output_type": "stream",
     "text": [
      "El combustible de cada tanque es:\n",
      "    1.-90\n",
      "    2.-70\n",
      "    3.-25\"\n",
      "    Promedio=61.666666666666664\n"
     ]
    }
   ],
   "source": [
    "def combustible_report(tanque1,tanque2,tanque3):\n",
    "    #prom=(tanque1+tanque2+tanque3)/3\n",
    "    return f\"\"\"El combustible de cada tanque es:\n",
    "    1.-{tanque1}\n",
    "    2.-{tanque2}\n",
    "    3.-{tanque3}\n",
    "    {promedioT[tanque1,tanque2,tanque3]}\"\"\"\n",
    "print(combustible(90,70,25))"
   ]
  },
  {
   "cell_type": "markdown",
   "metadata": {},
   "source": [
    "Ejercicio 2: Trabajo con argumentos de palabra clave"
   ]
  },
  {
   "cell_type": "markdown",
   "metadata": {},
   "source": [
    "En este ejercicio, construirás un informe de cohete que requiere varias piezas de información, como el tiempo hasta el destino, el combustible a la izquierda y el nombre del destino. Comienza por crear una función que creará un informe preciso de la misión:"
   ]
  },
  {
   "cell_type": "code",
   "execution_count": 29,
   "metadata": {},
   "outputs": [
    {
     "name": "stdout",
     "output_type": "stream",
     "text": [
      "\n",
      "    Destino:Marte\n",
      "    Tiempo hasta el destino:10\n",
      "    Combustible Izquierda:75\n"
     ]
    }
   ],
   "source": [
    "def informe(tiempo,comIzq,destino):\n",
    "    return f\"\"\"\n",
    "    Destino:{destino}\n",
    "    Tiempo hasta el destino:{tiempo}\n",
    "    Combustible Izquierda:{comIzq}\"\"\"\n",
    "print(informe(10,75,'Marte'))\n",
    "    "
   ]
  },
  {
   "cell_type": "code",
   "execution_count": 31,
   "metadata": {},
   "outputs": [
    {
     "name": "stdout",
     "output_type": "stream",
     "text": [
      "\n",
      "    Destino:Marte.\n",
      "    Tiempo hasta el destino:65 min\n",
      "    Combustible Total:5642 gallones\n"
     ]
    }
   ],
   "source": [
    "def informe(destino,*tiempo,**combT):\n",
    "    return f\"\"\"\n",
    "    Destino:{destino}.\n",
    "    Tiempo hasta el destino:{sum(tiempo)} min\n",
    "    Combustible Total:{sum(combT.values())} gallones\"\"\"\n",
    "\n",
    "print(informe('Marte',11,13,41,main=3300,mainq=2342))"
   ]
  }
 ],
 "metadata": {
  "interpreter": {
   "hash": "f79d682e0d7e407837e204f3f3507eee334dd757aca1aa41c981cdc6353a99ef"
  },
  "kernelspec": {
   "display_name": "Python 3.10.2 64-bit (windows store)",
   "language": "python",
   "name": "python3"
  },
  "language_info": {
   "codemirror_mode": {
    "name": "ipython",
    "version": 3
   },
   "file_extension": ".py",
   "mimetype": "text/x-python",
   "name": "python",
   "nbconvert_exporter": "python",
   "pygments_lexer": "ipython3",
   "version": "3.10.2"
  },
  "orig_nbformat": 4
 },
 "nbformat": 4,
 "nbformat_minor": 2
}
