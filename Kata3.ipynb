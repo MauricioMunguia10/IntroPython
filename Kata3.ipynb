{
 "cells": [
  {
   "cell_type": "markdown",
   "metadata": {},
   "source": [
    "Ejercicio - Escribir declaraciones if, else, elif \n",
    "\n",
    "Para este ejercicio, escribirás una lógica condicional que imprima una advertencia si un asteroide se acerca a la Tierra demasiado rápido. La velocidad del asteroide varía dependiendo de lo cerca que esté del sol, y cualquier velocidad superior a 25 kilómetros por segundo (km/s) merece una advertencia.\n",
    "\n",
    "Un asteroide se acerca, y viaja a una velocidad de 49 km/s."
   ]
  },
  {
   "cell_type": "code",
   "execution_count": 1,
   "metadata": {},
   "outputs": [
    {
     "name": "stdout",
     "output_type": "stream",
     "text": [
      "Advertencia, todos moriremos\n"
     ]
    }
   ],
   "source": [
    "astVel=49\n",
    "criticVel=25\n",
    "if astVel>criticVel:\n",
    "    print(\"Advertencia, todos moriremos!\")\n",
    "else:\n",
    "    print(\"Todo bien\")"
   ]
  },
  {
   "cell_type": "markdown",
   "metadata": {},
   "source": [
    "Si un asteroide entra en la atmósfera de la Tierra a una velocidad mayor o igual a 20 km/s, a veces produce un rayo de luz que se puede ver desde la Tierra. Escribe la lógica condicional que usa declaraciones `if`, `else`, y `elif` para alertar a las personas de todo el mundo que deben buscar un asteroide en el cielo. ¡Hay uno que se dirige a la tierra ahora a una velocidad de 19 km/s!"
   ]
  },
  {
   "cell_type": "code",
   "execution_count": 5,
   "metadata": {},
   "outputs": [
    {
     "name": "stdout",
     "output_type": "stream",
     "text": [
      "Cielo despejado\n"
     ]
    }
   ],
   "source": [
    "astVel=19\n",
    "criticVel=20\n",
    "if astVel>criticVel:\n",
    "    print(\"Podran observar un asteroide en el cielo\")\n",
    "else:\n",
    "    print(\"Cielo despejado\")"
   ]
  },
  {
   "cell_type": "markdown",
   "metadata": {},
   "source": [
    "Ejercicio: Uso de operadores AND y OR\n",
    "\n",
    "En este ejercicio, aprenderás información más matizada sobre cuándo los asteroides representan un peligro para la Tierra, y utilizarás esa información para mejorar nuestro sistema de advertencia."
   ]
  },
  {
   "cell_type": "code",
   "execution_count": 28,
   "metadata": {},
   "outputs": [
    {
     "name": "stdout",
     "output_type": "stream",
     "text": [
      "Ingrese datos del asteroide\n",
      "Velocidad del asteroide: \n",
      "100\n",
      "Tamaño del mismo: \n",
      "20\n",
      "Advertencia, un asteroide se acerca a la tierra.\n",
      "El asteroide no es una amenaza.\n",
      "Se quema en la atmosfera\n",
      "En el cielo se podra observar un rayo de Luz\n"
     ]
    }
   ],
   "source": [
    "astVel=0\n",
    "astTam=0\n",
    "minTam=25\n",
    "maxTam=1000\n",
    "\n",
    "print(\"Ingrese datos del asteroide\\nVelocidad del asteroide: \")\n",
    "astVel=int(input())\n",
    "print(astVel)\n",
    "print(\"Tamaño del mismo: \")\n",
    "astTam=int(input())\n",
    "print(astTam)\n",
    "\n",
    "if astVel > 25:\n",
    "    print(\"Advertencia, un asteroide se acerca a la tierra.\")\n",
    "elif astVel==25:\n",
    "    print(\"Advertencia, un asteroide se acerca a la tierra.\")\n",
    "else: \n",
    "    print(\"Velocidad no alarmante\")\n",
    "\n",
    "if astTam < minTam:\n",
    "    print(\"El asteroide no es una amenaza.\\nSe quema en la atmosfera\")\n",
    "else :\n",
    "    if astTam>minTam and astTam<maxTam:\n",
    "        print(\"El asteroide impactara y causara daño.\")\n",
    "    else:\n",
    "        print(\"Es el fin.\")\n",
    "if astVel > 20:\n",
    "    print(\"En el cielo se podra observar un rayo de Luz\")\n",
    "elif astVel == 20:\n",
    "    print(\"Cielo despejado\")\n",
    "else:\n",
    "    print(\"Cielo despejado\")\n",
    "\n",
    "\n",
    "\n",
    "\n",
    "\n",
    "\n"
   ]
  }
 ],
 "metadata": {
  "interpreter": {
   "hash": "d95c7960c60925b0dcd355c4634b90dc7f43c40ef0fd3d3f492074f38d060dc3"
  },
  "kernelspec": {
   "display_name": "Python 3.10.2 64-bit",
   "language": "python",
   "name": "python3"
  },
  "language_info": {
   "codemirror_mode": {
    "name": "ipython",
    "version": 3
   },
   "file_extension": ".py",
   "mimetype": "text/x-python",
   "name": "python",
   "nbconvert_exporter": "python",
   "pygments_lexer": "ipython3",
   "version": "3.10.2"
  },
  "orig_nbformat": 4
 },
 "nbformat": 4,
 "nbformat_minor": 2
}
