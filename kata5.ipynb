{
 "cells": [
  {
   "cell_type": "markdown",
   "metadata": {},
   "source": [
    "# Ejercicio 1 - Operadores aritmeticos\n",
    "\n",
    "Exploremos cómo podemos crear un programa que pueda calcular la distancia entre dos planetas.  Comenzaremos usando dos distancias de planetas: Tierra (149.597.870 km) y Júpiter (778.547.200 km)."
   ]
  },
  {
   "cell_type": "code",
   "execution_count": 2,
   "metadata": {},
   "outputs": [],
   "source": [
    "distTierra=149597870\n",
    "distJupiter=778547200\n"
   ]
  },
  {
   "cell_type": "markdown",
   "metadata": {},
   "source": [
    "Realizar la operación\n",
    "\n",
    "Con los valores obtenidos, es el momento de añadir el código para realizar la operación. Restarás el primer planeta del segundo para determinar la distancia en kilómetros. A continuación, puedes convertir la distancia del kilómetro en millas multiplicándola por `0.621`."
   ]
  },
  {
   "cell_type": "code",
   "execution_count": 3,
   "metadata": {},
   "outputs": [
    {
     "name": "stdout",
     "output_type": "stream",
     "text": [
      "La distancia entre la Tierra y Jupiter es de: 628949330km.\n",
      "Tambien la distancia en millas es de: 390577533.93mi.\n"
     ]
    }
   ],
   "source": [
    "dist=distJupiter-distTierra\n",
    "print(f\"La distancia entre la Tierra y Jupiter es de: {dist} km.\")\n",
    "distm=dist*0.621\n",
    "print(f\"Tambien la distancia en millas es de: {distm} mi.\")\n",
    "\n"
   ]
  },
  {
   "cell_type": "markdown",
   "metadata": {},
   "source": [
    "## Ejercicio 2: convierte cadenas en numero y usa valores absolutos\n",
    "\n",
    "Para crear nuestra aplicación, queremos leer la distancia del sol para dos planetas, y luego mostrar la distancia entre los planetas. Haremos esto usando `input` para leer los valores, `int` para convertir a entero y luego `abs` para convertir el resultado en su valor absoluto."
   ]
  },
  {
   "cell_type": "code",
   "execution_count": 8,
   "metadata": {},
   "outputs": [
    {
     "name": "stdout",
     "output_type": "stream",
     "text": [
      "Distancia entre planetas\n",
      "La distancia entre Mer y Mar es: 9 Km o 5.589 Mi\n",
      "10 19\n"
     ]
    }
   ],
   "source": [
    "print(\"Distancia entre planetas\")\n",
    "planetA=input(\"Nombre del planeta\")\n",
    "distA=input(\"Distancia al Sol\")\n",
    "planetB=input(\"Nombre del planeta\")\n",
    "distB=input(\"Distancia al Sol\")\n",
    "\n",
    "#print(planetA,distA,planetB,distB)\n",
    "distA=int(distA)\n",
    "distB=int(distB)\n",
    "#print(distA+distB)\n",
    "distKm=abs(distB-distA)\n",
    "distMi=abs(distB-distA)*0.621\n",
    "\n",
    "new_template=\"\"\"La distancia entre {primerPlaneta} y {segundoPlaneta} es: {km} Km o {mi} Mi\"\"\"\n",
    "print(new_template.format(primerPlaneta=planetA,segundoPlaneta=planetB,km=distKm,mi=distMi))\n",
    "#print(distA,distB)\n"
   ]
  }
 ],
 "metadata": {
  "interpreter": {
   "hash": "d95c7960c60925b0dcd355c4634b90dc7f43c40ef0fd3d3f492074f38d060dc3"
  },
  "kernelspec": {
   "display_name": "Python 3.10.2 64-bit",
   "language": "python",
   "name": "python3"
  },
  "language_info": {
   "codemirror_mode": {
    "name": "ipython",
    "version": 3
   },
   "file_extension": ".py",
   "mimetype": "text/x-python",
   "name": "python",
   "nbconvert_exporter": "python",
   "pygments_lexer": "ipython3",
   "version": "3.10.2"
  },
  "orig_nbformat": 4
 },
 "nbformat": 4,
 "nbformat_minor": 2
}
